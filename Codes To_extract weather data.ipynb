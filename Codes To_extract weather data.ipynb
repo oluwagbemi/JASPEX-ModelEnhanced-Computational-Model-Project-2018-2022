{
 "cells": [
  {
   "cell_type": "code",
   "execution_count": null,
   "id": "085eeeb5",
   "metadata": {},
   "outputs": [],
   "source": [
    "import pandas as pd\n",
    "import numpy as np\n",
    "import xarray as xr\n",
    "import matplotlib.pyplot as plt\n",
    "\n",
    "\n",
    "#--read data\n",
    "ds = xr.open_dataset('/home/soliu/Documents/dataset-insitu-gridded-observations-global-and-regional-7bf281d7-32f9-46b3-b3ba-2123d35b90c0/var/cru_max_temp.nc')\n",
    "ds = ds.sel(time=slice('2010-01-16','2019-12-16'))\n",
    "#ds = ds.reindex(latitude=ds.lat[::-1])\n",
    "#print(ds.values)\n",
    "\n",
    "#area =['Eastern Cape', 'Free State', 'Gauteng', 'KwaZulu-Natal', 'Limpopo', 'Mpumalanga', 'Northern Cape', 'North West', 'Western Cape', 'oyo', 'ekiti', 'lagos', 'abia', 'osun', 'kogi', 'borno', 'sokoto', 'kaduna']\n",
    "#lat =[13.02, 10.6, 12.05, 12.9, 11.7, 11.85, 8.5, 9.9, 9.2, 6.6, 7.1, 6.3, 7.8, 4.9, 6.5, 4.97, 16.3, 16.8]\n",
    "#lon =[5.25, 7.45, 8.2, 10.5, 11.03, 13.1, 4.6, 8.75, 12.5, 3.3, 4.8, 5.2, 6.7, 7.02, 7.6, 8.35, 0.15, 2.98]\n",
    "area =['Bonny', 'Isimiri', 'Imo_rivers', 'Afam']\n",
    "lat =[4.4295, 4.9165, 4,8846, 4.8869]\n",
    "lon =[7.1953, 7.2437, 7.1736, 7.1252]\n",
    "#--create empty data frame\n",
    "df=pd.DataFrame()\n",
    "ntim = len(ds.time)\n",
    "nlen = np.arange(ntim) * np.nan\n",
    "df['date'] = ds.time.values\n",
    "df['year'] = ds.time.dt.year\n",
    "df['month'] = ds.time.dt.month\n",
    "df['day'] = ds.time.dt.day\n",
    "\n",
    "\n",
    "for i, ia in enumerate(area[:]):\n",
    "    df[ia+'_tasmax'] = nlen\n",
    "    df[ia+'_lat'] = nlen\n",
    "    df[ia+'_lon'] = nlen\n",
    "\n",
    "ip = 0\n",
    "for i, ia in enumerate(area[:]):\n",
    "    ds2 = ds.sel(lat=lat[i], lon=lon[i], method = 'nearest')# .squeeze() / 100.\n",
    "    df[ia+'_tasmax'] = ds2['tasmax'].values\n",
    "    #print(ds2, df)\n",
    "    #exit()\n",
    "    df[ia+'_lat'] = ds2['lat'].values\n",
    "    df[ia+'_lon'] = ds2['lon'].values\n",
    "    ip+=1\n",
    "\n",
    "#df = round(df, 3)\n",
    "df.to_csv('field_cru_tasmax.csv', index=False)\n",
    "print('JOB COMPLETED!!!')\n",
    "\n",
    "\n"
   ]
  }
 ],
 "metadata": {
  "kernelspec": {
   "display_name": "Python 3 (ipykernel)",
   "language": "python",
   "name": "python3"
  },
  "language_info": {
   "codemirror_mode": {
    "name": "ipython",
    "version": 3
   },
   "file_extension": ".py",
   "mimetype": "text/x-python",
   "name": "python",
   "nbconvert_exporter": "python",
   "pygments_lexer": "ipython3",
   "version": "3.11.5"
  }
 },
 "nbformat": 4,
 "nbformat_minor": 5
}
